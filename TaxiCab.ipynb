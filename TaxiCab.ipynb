{
 "cells": [
  {
   "cell_type": "markdown",
   "id": "9d945c0f",
   "metadata": {},
   "source": [
    "# TaxiCab - Analysis and Visualizations"
   ]
  },
  {
   "cell_type": "markdown",
   "id": "1df8e43f",
   "metadata": {},
   "source": [
    "For this challenge, I perform the data importing, wrangling, cleaning, merging and the exploratory data analysis right here in this notebook file using Python. At the end, the cleaned dataset is then opened using Tableau for performing various visualizations for deriving insights and achieving the given objectives and more!\n",
    "\n",
    "For the challenge, I have attached this jupyter notebook file and the tableau workbook file and the datasets which I imported along with the dataset that I have generated after cleaning."
   ]
  },
  {
   "cell_type": "markdown",
   "id": "a261528f",
   "metadata": {},
   "source": [
    "## Contents:"
   ]
  },
  {
   "cell_type": "markdown",
   "id": "50f11e88",
   "metadata": {},
   "source": [
    "<a href=#bookmark1>Data Importing</a>\n",
    "<br>\n",
    "<a href=#bookmark2>Data Cleaning</a>\n",
    "<br>\n",
    "<a href=#bookmark3>Exploratory Data Analysis</a>\n",
    "<br>\n",
    "<a href=#bookmark4>Data Exporting</a>"
   ]
  },
  {
   "cell_type": "markdown",
   "id": "03ab6aec",
   "metadata": {},
   "source": [
    "### Data Importing <a name='bookmark1' />"
   ]
  },
  {
   "cell_type": "markdown",
   "id": "1d94794c",
   "metadata": {},
   "source": [
    "I begin with importing the necessary packages:"
   ]
  },
  {
   "cell_type": "code",
   "execution_count": 1,
   "id": "7b61633c",
   "metadata": {},
   "outputs": [],
   "source": [
    "import pandas as pd\n",
    "import numpy as np\n",
    "import seaborn as sns\n",
    "import matplotlib.pyplot as plt\n",
    "import warnings\n",
    "warnings.filterwarnings('ignore')\n",
    "\n",
    "sns.set(rc={'figure.figsize':(11.7,8.27)})"
   ]
  },
  {
   "cell_type": "markdown",
   "id": "e2a311b6",
   "metadata": {},
   "source": [
    "I read the json file into a pandas dataframe df:"
   ]
  },
  {
   "cell_type": "code",
   "execution_count": 2,
   "id": "3a55b7f4",
   "metadata": {},
   "outputs": [
    {
     "data": {
      "text/html": [
       "<div>\n",
       "<style scoped>\n",
       "    .dataframe tbody tr th:only-of-type {\n",
       "        vertical-align: middle;\n",
       "    }\n",
       "\n",
       "    .dataframe tbody tr th {\n",
       "        vertical-align: top;\n",
       "    }\n",
       "\n",
       "    .dataframe thead th {\n",
       "        text-align: right;\n",
       "    }\n",
       "</style>\n",
       "<table border=\"1\" class=\"dataframe\">\n",
       "  <thead>\n",
       "    <tr style=\"text-align: right;\">\n",
       "      <th></th>\n",
       "      <th>559893529209</th>\n",
       "      <th>993405808080</th>\n",
       "      <th>267031741304</th>\n",
       "      <th>355132875433</th>\n",
       "      <th>603494714228</th>\n",
       "      <th>796431455521</th>\n",
       "      <th>292429735915</th>\n",
       "      <th>723218812491</th>\n",
       "      <th>707163995392</th>\n",
       "      <th>762316622020</th>\n",
       "      <th>...</th>\n",
       "      <th>340606840492</th>\n",
       "      <th>727563688853</th>\n",
       "      <th>415155748717</th>\n",
       "      <th>206295159590</th>\n",
       "      <th>615323074645</th>\n",
       "      <th>204125243754</th>\n",
       "      <th>511527970247</th>\n",
       "      <th>795487851532</th>\n",
       "      <th>550977006601</th>\n",
       "      <th>244977907136</th>\n",
       "    </tr>\n",
       "  </thead>\n",
       "  <tbody>\n",
       "    <tr>\n",
       "      <th>improvement_surcharge</th>\n",
       "      <td>0.3</td>\n",
       "      <td>0.3</td>\n",
       "      <td>0.3</td>\n",
       "      <td>0.3</td>\n",
       "      <td>0.3</td>\n",
       "      <td>0.3</td>\n",
       "      <td>0.3</td>\n",
       "      <td>0.3</td>\n",
       "      <td>0.3</td>\n",
       "      <td>0.3</td>\n",
       "      <td>...</td>\n",
       "      <td>0.3</td>\n",
       "      <td>0.3</td>\n",
       "      <td>0.3</td>\n",
       "      <td>0.3</td>\n",
       "      <td>0.3</td>\n",
       "      <td>0.3</td>\n",
       "      <td>0.3</td>\n",
       "      <td>0.3</td>\n",
       "      <td>0.3</td>\n",
       "      <td>0.3</td>\n",
       "    </tr>\n",
       "    <tr>\n",
       "      <th>congestion_surcharge</th>\n",
       "      <td>2.5</td>\n",
       "      <td>0.0</td>\n",
       "      <td>0.0</td>\n",
       "      <td>0.0</td>\n",
       "      <td>2.5</td>\n",
       "      <td>2.5</td>\n",
       "      <td>0.0</td>\n",
       "      <td>2.5</td>\n",
       "      <td>0.0</td>\n",
       "      <td>2.5</td>\n",
       "      <td>...</td>\n",
       "      <td>2.5</td>\n",
       "      <td>0.0</td>\n",
       "      <td>0.0</td>\n",
       "      <td>2.5</td>\n",
       "      <td>2.5</td>\n",
       "      <td>0.0</td>\n",
       "      <td>0.0</td>\n",
       "      <td>0.0</td>\n",
       "      <td>0.0</td>\n",
       "      <td>0.0</td>\n",
       "    </tr>\n",
       "  </tbody>\n",
       "</table>\n",
       "<p>2 rows × 1369765 columns</p>\n",
       "</div>"
      ],
      "text/plain": [
       "                       559893529209  993405808080  267031741304  355132875433  \\\n",
       "improvement_surcharge           0.3           0.3           0.3           0.3   \n",
       "congestion_surcharge            2.5           0.0           0.0           0.0   \n",
       "\n",
       "                       603494714228  796431455521  292429735915  723218812491  \\\n",
       "improvement_surcharge           0.3           0.3           0.3           0.3   \n",
       "congestion_surcharge            2.5           2.5           0.0           2.5   \n",
       "\n",
       "                       707163995392  762316622020  ...  340606840492  \\\n",
       "improvement_surcharge           0.3           0.3  ...           0.3   \n",
       "congestion_surcharge            0.0           2.5  ...           2.5   \n",
       "\n",
       "                       727563688853  415155748717  206295159590  615323074645  \\\n",
       "improvement_surcharge           0.3           0.3           0.3           0.3   \n",
       "congestion_surcharge            0.0           0.0           2.5           2.5   \n",
       "\n",
       "                       204125243754  511527970247  795487851532  550977006601  \\\n",
       "improvement_surcharge           0.3           0.3           0.3           0.3   \n",
       "congestion_surcharge            0.0           0.0           0.0           0.0   \n",
       "\n",
       "                       244977907136  \n",
       "improvement_surcharge           0.3  \n",
       "congestion_surcharge            0.0  \n",
       "\n",
       "[2 rows x 1369765 columns]"
      ]
     },
     "execution_count": 2,
     "metadata": {},
     "output_type": "execute_result"
    }
   ],
   "source": [
    "df = pd.read_json('surcharge_data.json', convert_axes=False)\n",
    "df"
   ]
  },
  {
   "cell_type": "markdown",
   "id": "4346fd43",
   "metadata": {},
   "source": [
    "I also read the main csv file into a pandas dataframe df1:"
   ]
  },
  {
   "cell_type": "code",
   "execution_count": 3,
   "id": "c77d4383",
   "metadata": {},
   "outputs": [],
   "source": [
    "df1 = pd.read_csv(\"yellow_tripdata_2021-01_raw_updated.csv\", low_memory=False)"
   ]
  },
  {
   "cell_type": "markdown",
   "id": "24f98942",
   "metadata": {},
   "source": [
    "Since the read json file dataframe is inverted, I transpose it to get the desired structure:"
   ]
  },
  {
   "cell_type": "markdown",
   "id": "45c0c357",
   "metadata": {},
   "source": [
    "### Data Cleaning <a name='bookmark2' />"
   ]
  },
  {
   "cell_type": "code",
   "execution_count": 4,
   "id": "82904a75",
   "metadata": {},
   "outputs": [],
   "source": [
    "df = df.T\n",
    "df = df.reset_index(names=['tripId']) #resetting the index column"
   ]
  },
  {
   "cell_type": "markdown",
   "id": "644bc27d",
   "metadata": {},
   "source": [
    "Checking the datatypes before proceeding:"
   ]
  },
  {
   "cell_type": "code",
   "execution_count": 5,
   "id": "49d453d9",
   "metadata": {},
   "outputs": [
    {
     "data": {
      "text/plain": [
       "tripId                    object\n",
       "improvement_surcharge    float64\n",
       "congestion_surcharge     float64\n",
       "dtype: object"
      ]
     },
     "execution_count": 5,
     "metadata": {},
     "output_type": "execute_result"
    }
   ],
   "source": [
    "df.dtypes"
   ]
  },
  {
   "cell_type": "code",
   "execution_count": 6,
   "id": "911dddda",
   "metadata": {},
   "outputs": [],
   "source": [
    "df = df.astype({'tripId': 'int64'}) #changing the data type of the unique identifier into int64"
   ]
  },
  {
   "cell_type": "markdown",
   "id": "9c3fb7c2",
   "metadata": {},
   "source": [
    "Checking the distinct values in both the surcharge columns:"
   ]
  },
  {
   "cell_type": "code",
   "execution_count": 7,
   "id": "efcbe5c7",
   "metadata": {},
   "outputs": [
    {
     "data": {
      "text/plain": [
       " 0.3    1362453\n",
       "-0.3       6654\n",
       " 0.0        658\n",
       "Name: improvement_surcharge, dtype: int64"
      ]
     },
     "execution_count": 7,
     "metadata": {},
     "output_type": "execute_result"
    }
   ],
   "source": [
    "df.improvement_surcharge.value_counts()"
   ]
  },
  {
   "cell_type": "code",
   "execution_count": 8,
   "id": "126558fd",
   "metadata": {},
   "outputs": [
    {
     "data": {
      "text/plain": [
       " 2.50    1164917\n",
       " 0.00     199345\n",
       "-2.50       5497\n",
       " 0.75          5\n",
       " 3.00          1\n",
       "Name: congestion_surcharge, dtype: int64"
      ]
     },
     "execution_count": 8,
     "metadata": {},
     "output_type": "execute_result"
    }
   ],
   "source": [
    "df.congestion_surcharge.value_counts()"
   ]
  },
  {
   "cell_type": "markdown",
   "id": "ed7f86f7",
   "metadata": {},
   "source": [
    "Negative values which are anomalies exist here which are probably typing errors which will need to be addressed. Also, checking if the dataset has any null values:"
   ]
  },
  {
   "cell_type": "code",
   "execution_count": 9,
   "id": "82c9a380",
   "metadata": {
    "scrolled": true
   },
   "outputs": [
    {
     "data": {
      "text/plain": [
       "0"
      ]
     },
     "execution_count": 9,
     "metadata": {},
     "output_type": "execute_result"
    }
   ],
   "source": [
    "df.isna().sum().sum()"
   ]
  },
  {
   "cell_type": "markdown",
   "id": "b3842fff",
   "metadata": {},
   "source": [
    "We do not have any null values. First, I round up the columns so that the float data type doesn't cause any precision issues:"
   ]
  },
  {
   "cell_type": "code",
   "execution_count": 10,
   "id": "186ed71b",
   "metadata": {},
   "outputs": [],
   "source": [
    "df = df.round({'improvement_surcharge': 1, 'congestion_surcharge': 2})"
   ]
  },
  {
   "cell_type": "markdown",
   "id": "ea268a7b",
   "metadata": {},
   "source": [
    "Then I find and replace the input anomalies with the correct corresponding values:"
   ]
  },
  {
   "cell_type": "code",
   "execution_count": 11,
   "id": "411cfd7e",
   "metadata": {},
   "outputs": [],
   "source": [
    "df.improvement_surcharge = df.improvement_surcharge.replace(to_replace=[-0.3], value=0.3)\n",
    "df.congestion_surcharge = df.congestion_surcharge.replace(to_replace=[-2.50], value=2.50)"
   ]
  },
  {
   "cell_type": "markdown",
   "id": "3bfcc37a",
   "metadata": {},
   "source": [
    "Coming back to our main csv file, a little glimpse into the different columns:"
   ]
  },
  {
   "cell_type": "code",
   "execution_count": 12,
   "id": "87a5006e",
   "metadata": {
    "scrolled": false
   },
   "outputs": [
    {
     "data": {
      "text/html": [
       "<div>\n",
       "<style scoped>\n",
       "    .dataframe tbody tr th:only-of-type {\n",
       "        vertical-align: middle;\n",
       "    }\n",
       "\n",
       "    .dataframe tbody tr th {\n",
       "        vertical-align: top;\n",
       "    }\n",
       "\n",
       "    .dataframe thead th {\n",
       "        text-align: right;\n",
       "    }\n",
       "</style>\n",
       "<table border=\"1\" class=\"dataframe\">\n",
       "  <thead>\n",
       "    <tr style=\"text-align: right;\">\n",
       "      <th></th>\n",
       "      <th>VendorID</th>\n",
       "      <th>tpep_pickup_datetime</th>\n",
       "      <th>tpep_dropoff_datetime</th>\n",
       "      <th>passenger_count</th>\n",
       "      <th>trip_distance</th>\n",
       "      <th>RatecodeID</th>\n",
       "      <th>store_and_fwd_flag</th>\n",
       "      <th>PULocationID</th>\n",
       "      <th>DOLocationID</th>\n",
       "      <th>payment_type</th>\n",
       "      <th>fare_amount</th>\n",
       "      <th>extra</th>\n",
       "      <th>mta_tax</th>\n",
       "      <th>tip_amount</th>\n",
       "      <th>tolls_amount</th>\n",
       "      <th>tripId</th>\n",
       "    </tr>\n",
       "  </thead>\n",
       "  <tbody>\n",
       "    <tr>\n",
       "      <th>0</th>\n",
       "      <td>1.0</td>\n",
       "      <td>2021-01-01 00:30:10</td>\n",
       "      <td>2021-01-01 00:36:12</td>\n",
       "      <td>1.0</td>\n",
       "      <td>2.1</td>\n",
       "      <td>1.0</td>\n",
       "      <td>N</td>\n",
       "      <td>142</td>\n",
       "      <td>43</td>\n",
       "      <td>2.0</td>\n",
       "      <td>8.0</td>\n",
       "      <td>3.0</td>\n",
       "      <td>0.5</td>\n",
       "      <td>0.00</td>\n",
       "      <td>0.0</td>\n",
       "      <td>559893529209</td>\n",
       "    </tr>\n",
       "    <tr>\n",
       "      <th>1</th>\n",
       "      <td>1.0</td>\n",
       "      <td>2021-01-01 00:51:20</td>\n",
       "      <td>2021-01-01 00:52:19</td>\n",
       "      <td>1.0</td>\n",
       "      <td>0.2</td>\n",
       "      <td>1.0</td>\n",
       "      <td>N</td>\n",
       "      <td>238</td>\n",
       "      <td>151</td>\n",
       "      <td>2.0</td>\n",
       "      <td>3.0</td>\n",
       "      <td>0.5</td>\n",
       "      <td>0.5</td>\n",
       "      <td>0.00</td>\n",
       "      <td>0.0</td>\n",
       "      <td>993405808080</td>\n",
       "    </tr>\n",
       "    <tr>\n",
       "      <th>2</th>\n",
       "      <td>1.0</td>\n",
       "      <td>2021-01-01 00:43:30</td>\n",
       "      <td>2021-01-01 01:11:06</td>\n",
       "      <td>1.0</td>\n",
       "      <td>14.7</td>\n",
       "      <td>1.0</td>\n",
       "      <td>N</td>\n",
       "      <td>132</td>\n",
       "      <td>165</td>\n",
       "      <td>1.0</td>\n",
       "      <td>42.0</td>\n",
       "      <td>0.5</td>\n",
       "      <td>0.5</td>\n",
       "      <td>8.65</td>\n",
       "      <td>0.0</td>\n",
       "      <td>267031741304</td>\n",
       "    </tr>\n",
       "    <tr>\n",
       "      <th>3</th>\n",
       "      <td>1.0</td>\n",
       "      <td>2021-01-01 00:15:48</td>\n",
       "      <td>2021-01-01 00:31:01</td>\n",
       "      <td>0.0</td>\n",
       "      <td>10.6</td>\n",
       "      <td>1.0</td>\n",
       "      <td>N</td>\n",
       "      <td>138</td>\n",
       "      <td>132</td>\n",
       "      <td>1.0</td>\n",
       "      <td>29.0</td>\n",
       "      <td>0.5</td>\n",
       "      <td>0.5</td>\n",
       "      <td>6.05</td>\n",
       "      <td>0.0</td>\n",
       "      <td>355132875433</td>\n",
       "    </tr>\n",
       "    <tr>\n",
       "      <th>4</th>\n",
       "      <td>2.0</td>\n",
       "      <td>2021-01-01 00:31:49</td>\n",
       "      <td>2021-01-01 00:48:21</td>\n",
       "      <td>1.0</td>\n",
       "      <td>4.94</td>\n",
       "      <td>1.0</td>\n",
       "      <td>N</td>\n",
       "      <td>68</td>\n",
       "      <td>33</td>\n",
       "      <td>1.0</td>\n",
       "      <td>16.5</td>\n",
       "      <td>0.5</td>\n",
       "      <td>0.5</td>\n",
       "      <td>4.06</td>\n",
       "      <td>0.0</td>\n",
       "      <td>603494714228</td>\n",
       "    </tr>\n",
       "  </tbody>\n",
       "</table>\n",
       "</div>"
      ],
      "text/plain": [
       "   VendorID tpep_pickup_datetime tpep_dropoff_datetime  passenger_count  \\\n",
       "0       1.0  2021-01-01 00:30:10   2021-01-01 00:36:12              1.0   \n",
       "1       1.0  2021-01-01 00:51:20   2021-01-01 00:52:19              1.0   \n",
       "2       1.0  2021-01-01 00:43:30   2021-01-01 01:11:06              1.0   \n",
       "3       1.0  2021-01-01 00:15:48   2021-01-01 00:31:01              0.0   \n",
       "4       2.0  2021-01-01 00:31:49   2021-01-01 00:48:21              1.0   \n",
       "\n",
       "  trip_distance  RatecodeID store_and_fwd_flag  PULocationID  DOLocationID  \\\n",
       "0           2.1         1.0                  N           142            43   \n",
       "1           0.2         1.0                  N           238           151   \n",
       "2          14.7         1.0                  N           132           165   \n",
       "3          10.6         1.0                  N           138           132   \n",
       "4          4.94         1.0                  N            68            33   \n",
       "\n",
       "   payment_type  fare_amount  extra  mta_tax  tip_amount  tolls_amount  \\\n",
       "0           2.0          8.0    3.0      0.5        0.00           0.0   \n",
       "1           2.0          3.0    0.5      0.5        0.00           0.0   \n",
       "2           1.0         42.0    0.5      0.5        8.65           0.0   \n",
       "3           1.0         29.0    0.5      0.5        6.05           0.0   \n",
       "4           1.0         16.5    0.5      0.5        4.06           0.0   \n",
       "\n",
       "         tripId  \n",
       "0  559893529209  \n",
       "1  993405808080  \n",
       "2  267031741304  \n",
       "3  355132875433  \n",
       "4  603494714228  "
      ]
     },
     "execution_count": 12,
     "metadata": {},
     "output_type": "execute_result"
    }
   ],
   "source": [
    "df1.head()"
   ]
  },
  {
   "cell_type": "markdown",
   "id": "63f591f2",
   "metadata": {},
   "source": [
    "Now that both the dataframes are in the correct shape, I merge them with an inner join on the tripId column into a single dataframe **ff**:"
   ]
  },
  {
   "cell_type": "code",
   "execution_count": 13,
   "id": "eb170213",
   "metadata": {},
   "outputs": [],
   "source": [
    "ff = pd.merge(left=df1, right=df, left_on='tripId', right_on='tripId')"
   ]
  },
  {
   "cell_type": "markdown",
   "id": "e5461bf4",
   "metadata": {},
   "source": [
    "Checking the data types of all the columns in the combined final dataset:"
   ]
  },
  {
   "cell_type": "code",
   "execution_count": 14,
   "id": "d344b961",
   "metadata": {},
   "outputs": [
    {
     "data": {
      "text/plain": [
       "VendorID                 float64\n",
       "tpep_pickup_datetime      object\n",
       "tpep_dropoff_datetime     object\n",
       "passenger_count          float64\n",
       "trip_distance             object\n",
       "RatecodeID               float64\n",
       "store_and_fwd_flag        object\n",
       "PULocationID               int64\n",
       "DOLocationID               int64\n",
       "payment_type             float64\n",
       "fare_amount              float64\n",
       "extra                    float64\n",
       "mta_tax                  float64\n",
       "tip_amount               float64\n",
       "tolls_amount             float64\n",
       "tripId                     int64\n",
       "improvement_surcharge    float64\n",
       "congestion_surcharge     float64\n",
       "dtype: object"
      ]
     },
     "execution_count": 14,
     "metadata": {},
     "output_type": "execute_result"
    }
   ],
   "source": [
    "ff.dtypes"
   ]
  },
  {
   "cell_type": "markdown",
   "id": "e4262994",
   "metadata": {},
   "source": [
    "Now, checking back from the yellow taxi meta data files, only two officially recognised vendors are listed - Creative Mobile Technologies, LLC, corresponding to the number 1 and, VeriFone Inc., corresponding to the number 2:"
   ]
  },
  {
   "cell_type": "code",
   "execution_count": 15,
   "id": "8b48a612",
   "metadata": {},
   "outputs": [],
   "source": [
    "ff = ff[(ff[\"VendorID\"] == 1.0) | (ff[\"VendorID\"] == 2.0)]"
   ]
  },
  {
   "cell_type": "markdown",
   "id": "1b579850",
   "metadata": {},
   "source": [
    "Changing the data types of various columns to make the processing more efficient and informative:"
   ]
  },
  {
   "cell_type": "code",
   "execution_count": 16,
   "id": "2abd8309",
   "metadata": {},
   "outputs": [],
   "source": [
    "ff = ff.astype({'VendorID': 'str'})\n",
    "ff = ff.astype({'passenger_count': 'int64'})\n",
    "ff = ff.astype({'trip_distance': 'str'})"
   ]
  },
  {
   "cell_type": "markdown",
   "id": "ed600c36",
   "metadata": {},
   "source": [
    "Using value_counts() method on the trip_distance column, I found out that the column contains mixed values and is not fully numeric, as it should be. Many rows consisted of the suffix **'km'** trailing at the end which needed to be removed.\n",
    "Removing the suffix and fixing the entire column into the proper format:"
   ]
  },
  {
   "cell_type": "code",
   "execution_count": 17,
   "id": "6b554075",
   "metadata": {},
   "outputs": [],
   "source": [
    "ff1 = ff[ff['trip_distance'].str.contains('km')] #getting a subset of all the rows where the field contains the suffix 'km'\n",
    "ff1['trip_distance'] = ff1['trip_distance'].str[:-2] #cutting out the last two digits of all the rows with the suffix 'km'\n",
    "ff2 = ff[~ff['trip_distance'].str.contains('km')] #getting a subset of all the other rows from the original dataframe"
   ]
  },
  {
   "cell_type": "markdown",
   "id": "eb54cc07",
   "metadata": {},
   "source": [
    "After the two split and fixed dataframe **ff1** and **ff2** are obtained, I appended them together to get back the fixed and consolidated dataframe **ff** again:"
   ]
  },
  {
   "cell_type": "code",
   "execution_count": 18,
   "id": "364326d0",
   "metadata": {},
   "outputs": [],
   "source": [
    "ff = ff2.append(ff1, ignore_index=True)"
   ]
  },
  {
   "cell_type": "markdown",
   "id": "5df14337",
   "metadata": {},
   "source": [
    "Changing the data types of some columns again:"
   ]
  },
  {
   "cell_type": "code",
   "execution_count": 19,
   "id": "b72bb17b",
   "metadata": {},
   "outputs": [],
   "source": [
    "ff = ff.astype({'trip_distance': 'float64'})\n",
    "ff = ff.astype({'payment_type': 'str'})"
   ]
  },
  {
   "cell_type": "markdown",
   "id": "f15317b2",
   "metadata": {},
   "source": [
    "Using value_counts() method on the RatecodeID column, we see that it contains some rows with values extremely high and also not specified in the metadata file. These rows are anomalous in nature and only contributed to considerably lower numbers and hence I dropped them as it would not affect any analysis:"
   ]
  },
  {
   "cell_type": "code",
   "execution_count": 20,
   "id": "90f152eb",
   "metadata": {},
   "outputs": [],
   "source": [
    "ff = ff[ff.RatecodeID != 99.0]\n",
    "ff = ff.astype({'RatecodeID': 'int64'})"
   ]
  },
  {
   "cell_type": "markdown",
   "id": "6208c5fd",
   "metadata": {},
   "source": [
    "Also while exploring around the other columns, I found out that various amount columns specified below contained negative values in place of positive values, which are mistakes, as fare amounts can never be negative. Fixing all those columns by calculating their absolute values:"
   ]
  },
  {
   "cell_type": "code",
   "execution_count": 21,
   "id": "224f6f34",
   "metadata": {},
   "outputs": [],
   "source": [
    "ff['fare_amount'] = ff['fare_amount'].abs()\n",
    "ff['extra'] = ff['extra'].abs()\n",
    "ff['mta_tax'] = ff['mta_tax'].abs()\n",
    "ff['tip_amount'] = ff['tip_amount'].abs()\n",
    "ff['tolls_amount'] = ff['tolls_amount'].abs()"
   ]
  },
  {
   "cell_type": "markdown",
   "id": "2c73c101",
   "metadata": {},
   "source": [
    "Now that I have various fare and other charges columns, I add them all up to create a new column called the **total_amount** which sums up the fare amount, the taxes, toll amounts and the various surcharges:"
   ]
  },
  {
   "cell_type": "code",
   "execution_count": 22,
   "id": "98b9aa0f",
   "metadata": {},
   "outputs": [],
   "source": [
    "ff['total_amount'] = ff.fare_amount + ff.extra + ff.mta_tax + ff.tip_amount + ff.tolls_amount + ff.improvement_surcharge + ff.congestion_surcharge"
   ]
  },
  {
   "cell_type": "markdown",
   "id": "6277f38c",
   "metadata": {},
   "source": [
    "Removing and placing the tripID column at the beginning as it is an unique row identifier:"
   ]
  },
  {
   "cell_type": "code",
   "execution_count": 23,
   "id": "2db65435",
   "metadata": {},
   "outputs": [],
   "source": [
    "tripId = ff.pop('tripId')\n",
    "ff.insert(0, 'tripId', tripId)"
   ]
  },
  {
   "cell_type": "markdown",
   "id": "3eb73c4b",
   "metadata": {},
   "source": [
    "Resetting the dataframe index after the various data wrangling operations:"
   ]
  },
  {
   "cell_type": "code",
   "execution_count": 24,
   "id": "a2327068",
   "metadata": {
    "scrolled": false
   },
   "outputs": [],
   "source": [
    "ff.reset_index(inplace=True, drop=True)"
   ]
  },
  {
   "cell_type": "markdown",
   "id": "9a836b46",
   "metadata": {},
   "source": [
    "I noticed that I have both the pickup and drop off times. So I decided to calculate the trip duration, which is esentially the drop off time minus the pickup time. Various operations were done to ensure that the columns were in the correct datetime formats and the resulting time delta columns is extracted as seconds and then converted into minutes, denoting the trip duration in minutes:"
   ]
  },
  {
   "cell_type": "code",
   "execution_count": 25,
   "id": "fa513f05",
   "metadata": {},
   "outputs": [],
   "source": [
    "ff['tpep_pickup_datetime'] =  pd.to_datetime(ff['tpep_pickup_datetime'], format='%Y-%m-%d')\n",
    "ff['tpep_dropoff_datetime'] =  pd.to_datetime(ff['tpep_dropoff_datetime'], format='%Y-%m-%d')\n",
    "\n",
    "b = ff['tpep_dropoff_datetime'] - ff['tpep_pickup_datetime']\n",
    "b = pd.to_timedelta(b)\n",
    "\n",
    "c = []\n",
    "for i in range(len(b)):\n",
    "    c.append(b[i].seconds)\n",
    "    \n",
    "d = []\n",
    "for i in range(len(c)):\n",
    "    d.append(round(c[i]/60,2))\n",
    "    \n",
    "ff.insert(4, 'trip_duration(in minutes)', d) #appending the new column 'trip_duration(in minutes)' to the dataframe"
   ]
  },
  {
   "cell_type": "markdown",
   "id": "bd4e6e94",
   "metadata": {},
   "source": [
    "Also, since we are working with only the records from **January 2021**, the various datetime records are checked and then filtered to contain only the year **2021** and only the month **January**:"
   ]
  },
  {
   "cell_type": "code",
   "execution_count": 26,
   "id": "f25f5688",
   "metadata": {},
   "outputs": [],
   "source": [
    "ff['year1'] = ff['tpep_pickup_datetime'].dt.year\n",
    "ff = ff[ff.year1 == 2021]\n",
    "\n",
    "ff['year2'] = ff['tpep_dropoff_datetime'].dt.year \n",
    "ff = ff[ff.year2 == 2021]\n",
    "\n",
    "ff = ff.drop(['year1', 'year2'], axis=1)"
   ]
  },
  {
   "cell_type": "code",
   "execution_count": 27,
   "id": "cd9be6b5",
   "metadata": {},
   "outputs": [],
   "source": [
    "ff['month1'] = ff['tpep_pickup_datetime'].dt.month\n",
    "ff = ff[ff.month1 == 1]\n",
    "\n",
    "ff['month2'] = ff['tpep_dropoff_datetime'].dt.month\n",
    "ff = ff[ff.month2 == 1]\n",
    "\n",
    "ff = ff.drop(['month1', 'month2'], axis=1)"
   ]
  },
  {
   "cell_type": "markdown",
   "id": "d163c4d5",
   "metadata": {},
   "source": [
    "Finally, checking the entire dataframe for any missing values which would needed to be fixed:"
   ]
  },
  {
   "cell_type": "code",
   "execution_count": 28,
   "id": "38871673",
   "metadata": {},
   "outputs": [
    {
     "data": {
      "text/plain": [
       "0"
      ]
     },
     "execution_count": 28,
     "metadata": {},
     "output_type": "execute_result"
    }
   ],
   "source": [
    "ff.isna().sum().sum()"
   ]
  },
  {
   "cell_type": "markdown",
   "id": "b1b68463",
   "metadata": {},
   "source": [
    "A small sample of the final cleaned and processed dataframe:"
   ]
  },
  {
   "cell_type": "code",
   "execution_count": 29,
   "id": "b47756e2",
   "metadata": {},
   "outputs": [
    {
     "data": {
      "text/html": [
       "<div>\n",
       "<style scoped>\n",
       "    .dataframe tbody tr th:only-of-type {\n",
       "        vertical-align: middle;\n",
       "    }\n",
       "\n",
       "    .dataframe tbody tr th {\n",
       "        vertical-align: top;\n",
       "    }\n",
       "\n",
       "    .dataframe thead th {\n",
       "        text-align: right;\n",
       "    }\n",
       "</style>\n",
       "<table border=\"1\" class=\"dataframe\">\n",
       "  <thead>\n",
       "    <tr style=\"text-align: right;\">\n",
       "      <th></th>\n",
       "      <th>tripId</th>\n",
       "      <th>VendorID</th>\n",
       "      <th>tpep_pickup_datetime</th>\n",
       "      <th>tpep_dropoff_datetime</th>\n",
       "      <th>trip_duration(in minutes)</th>\n",
       "      <th>passenger_count</th>\n",
       "      <th>trip_distance</th>\n",
       "      <th>RatecodeID</th>\n",
       "      <th>store_and_fwd_flag</th>\n",
       "      <th>PULocationID</th>\n",
       "      <th>DOLocationID</th>\n",
       "      <th>payment_type</th>\n",
       "      <th>fare_amount</th>\n",
       "      <th>extra</th>\n",
       "      <th>mta_tax</th>\n",
       "      <th>tip_amount</th>\n",
       "      <th>tolls_amount</th>\n",
       "      <th>improvement_surcharge</th>\n",
       "      <th>congestion_surcharge</th>\n",
       "      <th>total_amount</th>\n",
       "    </tr>\n",
       "  </thead>\n",
       "  <tbody>\n",
       "    <tr>\n",
       "      <th>0</th>\n",
       "      <td>559893529209</td>\n",
       "      <td>1.0</td>\n",
       "      <td>2021-01-01 00:30:10</td>\n",
       "      <td>2021-01-01 00:36:12</td>\n",
       "      <td>6.03</td>\n",
       "      <td>1</td>\n",
       "      <td>2.10</td>\n",
       "      <td>1</td>\n",
       "      <td>N</td>\n",
       "      <td>142</td>\n",
       "      <td>43</td>\n",
       "      <td>2.0</td>\n",
       "      <td>8.0</td>\n",
       "      <td>3.0</td>\n",
       "      <td>0.5</td>\n",
       "      <td>0.00</td>\n",
       "      <td>0.0</td>\n",
       "      <td>0.3</td>\n",
       "      <td>2.5</td>\n",
       "      <td>14.30</td>\n",
       "    </tr>\n",
       "    <tr>\n",
       "      <th>1</th>\n",
       "      <td>993405808080</td>\n",
       "      <td>1.0</td>\n",
       "      <td>2021-01-01 00:51:20</td>\n",
       "      <td>2021-01-01 00:52:19</td>\n",
       "      <td>0.98</td>\n",
       "      <td>1</td>\n",
       "      <td>0.20</td>\n",
       "      <td>1</td>\n",
       "      <td>N</td>\n",
       "      <td>238</td>\n",
       "      <td>151</td>\n",
       "      <td>2.0</td>\n",
       "      <td>3.0</td>\n",
       "      <td>0.5</td>\n",
       "      <td>0.5</td>\n",
       "      <td>0.00</td>\n",
       "      <td>0.0</td>\n",
       "      <td>0.3</td>\n",
       "      <td>0.0</td>\n",
       "      <td>4.30</td>\n",
       "    </tr>\n",
       "    <tr>\n",
       "      <th>2</th>\n",
       "      <td>267031741304</td>\n",
       "      <td>1.0</td>\n",
       "      <td>2021-01-01 00:43:30</td>\n",
       "      <td>2021-01-01 01:11:06</td>\n",
       "      <td>27.60</td>\n",
       "      <td>1</td>\n",
       "      <td>14.70</td>\n",
       "      <td>1</td>\n",
       "      <td>N</td>\n",
       "      <td>132</td>\n",
       "      <td>165</td>\n",
       "      <td>1.0</td>\n",
       "      <td>42.0</td>\n",
       "      <td>0.5</td>\n",
       "      <td>0.5</td>\n",
       "      <td>8.65</td>\n",
       "      <td>0.0</td>\n",
       "      <td>0.3</td>\n",
       "      <td>0.0</td>\n",
       "      <td>51.95</td>\n",
       "    </tr>\n",
       "    <tr>\n",
       "      <th>3</th>\n",
       "      <td>355132875433</td>\n",
       "      <td>1.0</td>\n",
       "      <td>2021-01-01 00:15:48</td>\n",
       "      <td>2021-01-01 00:31:01</td>\n",
       "      <td>15.22</td>\n",
       "      <td>0</td>\n",
       "      <td>10.60</td>\n",
       "      <td>1</td>\n",
       "      <td>N</td>\n",
       "      <td>138</td>\n",
       "      <td>132</td>\n",
       "      <td>1.0</td>\n",
       "      <td>29.0</td>\n",
       "      <td>0.5</td>\n",
       "      <td>0.5</td>\n",
       "      <td>6.05</td>\n",
       "      <td>0.0</td>\n",
       "      <td>0.3</td>\n",
       "      <td>0.0</td>\n",
       "      <td>36.35</td>\n",
       "    </tr>\n",
       "    <tr>\n",
       "      <th>4</th>\n",
       "      <td>603494714228</td>\n",
       "      <td>2.0</td>\n",
       "      <td>2021-01-01 00:31:49</td>\n",
       "      <td>2021-01-01 00:48:21</td>\n",
       "      <td>16.53</td>\n",
       "      <td>1</td>\n",
       "      <td>4.94</td>\n",
       "      <td>1</td>\n",
       "      <td>N</td>\n",
       "      <td>68</td>\n",
       "      <td>33</td>\n",
       "      <td>1.0</td>\n",
       "      <td>16.5</td>\n",
       "      <td>0.5</td>\n",
       "      <td>0.5</td>\n",
       "      <td>4.06</td>\n",
       "      <td>0.0</td>\n",
       "      <td>0.3</td>\n",
       "      <td>2.5</td>\n",
       "      <td>24.36</td>\n",
       "    </tr>\n",
       "  </tbody>\n",
       "</table>\n",
       "</div>"
      ],
      "text/plain": [
       "         tripId VendorID tpep_pickup_datetime tpep_dropoff_datetime  \\\n",
       "0  559893529209      1.0  2021-01-01 00:30:10   2021-01-01 00:36:12   \n",
       "1  993405808080      1.0  2021-01-01 00:51:20   2021-01-01 00:52:19   \n",
       "2  267031741304      1.0  2021-01-01 00:43:30   2021-01-01 01:11:06   \n",
       "3  355132875433      1.0  2021-01-01 00:15:48   2021-01-01 00:31:01   \n",
       "4  603494714228      2.0  2021-01-01 00:31:49   2021-01-01 00:48:21   \n",
       "\n",
       "   trip_duration(in minutes)  passenger_count  trip_distance  RatecodeID  \\\n",
       "0                       6.03                1           2.10           1   \n",
       "1                       0.98                1           0.20           1   \n",
       "2                      27.60                1          14.70           1   \n",
       "3                      15.22                0          10.60           1   \n",
       "4                      16.53                1           4.94           1   \n",
       "\n",
       "  store_and_fwd_flag  PULocationID  DOLocationID payment_type  fare_amount  \\\n",
       "0                  N           142            43          2.0          8.0   \n",
       "1                  N           238           151          2.0          3.0   \n",
       "2                  N           132           165          1.0         42.0   \n",
       "3                  N           138           132          1.0         29.0   \n",
       "4                  N            68            33          1.0         16.5   \n",
       "\n",
       "   extra  mta_tax  tip_amount  tolls_amount  improvement_surcharge  \\\n",
       "0    3.0      0.5        0.00           0.0                    0.3   \n",
       "1    0.5      0.5        0.00           0.0                    0.3   \n",
       "2    0.5      0.5        8.65           0.0                    0.3   \n",
       "3    0.5      0.5        6.05           0.0                    0.3   \n",
       "4    0.5      0.5        4.06           0.0                    0.3   \n",
       "\n",
       "   congestion_surcharge  total_amount  \n",
       "0                   2.5         14.30  \n",
       "1                   0.0          4.30  \n",
       "2                   0.0         51.95  \n",
       "3                   0.0         36.35  \n",
       "4                   2.5         24.36  "
      ]
     },
     "execution_count": 29,
     "metadata": {},
     "output_type": "execute_result"
    }
   ],
   "source": [
    "ff.head()"
   ]
  },
  {
   "cell_type": "markdown",
   "id": "7ff81fe1",
   "metadata": {},
   "source": [
    "### Exploratory Data Analysis: <a name='bookmark3' />"
   ]
  },
  {
   "cell_type": "markdown",
   "id": "198d7eea",
   "metadata": {},
   "source": [
    "A box plot of the **trip_distance** column revealed that I have a single anomalous record which is obviously an input error:"
   ]
  },
  {
   "cell_type": "code",
   "execution_count": 30,
   "id": "feb54e3a",
   "metadata": {},
   "outputs": [
    {
     "data": {
      "image/png": "[encoded data removed]",
      "text/plain": [
       "<Figure size 1170x827 with 1 Axes>"
      ]
     },
     "metadata": {},
     "output_type": "display_data"
    }
   ],
   "source": [
    "ff[['trip_distance']].plot.box();"
   ]
  },
  {
   "cell_type": "code",
   "execution_count": 31,
   "id": "d0b74b06",
   "metadata": {},
   "outputs": [],
   "source": [
    "ff = ff[ff.trip_distance < 10000]"
   ]
  },
  {
   "cell_type": "markdown",
   "id": "801883ec",
   "metadata": {},
   "source": [
    "The obvious outlier is removed to make the EDA more effective and to provide more meaningful results and the resulting boxplot is shown again:"
   ]
  },
  {
   "cell_type": "code",
   "execution_count": 32,
   "id": "e3a86a07",
   "metadata": {},
   "outputs": [
    {
     "data": {
      "image/png": "[encoded data removed]",
      "text/plain": [
       "<Figure size 1170x827 with 1 Axes>"
      ]
     },
     "metadata": {},
     "output_type": "display_data"
    }
   ],
   "source": [
    "ff[['trip_distance']].plot.box();"
   ]
  },
  {
   "cell_type": "markdown",
   "id": "e55b4020",
   "metadata": {},
   "source": [
    "A boxplot of the **total_amount** column is created:"
   ]
  },
  {
   "cell_type": "code",
   "execution_count": 33,
   "id": "ad951ec2",
   "metadata": {},
   "outputs": [
    {
     "data": {
      "image/png": "[encoded data removed]",
      "text/plain": [
       "<Figure size 1170x827 with 1 Axes>"
      ]
     },
     "metadata": {},
     "output_type": "display_data"
    }
   ],
   "source": [
    "ff[['total_amount']].plot.box();"
   ]
  },
  {
   "cell_type": "markdown",
   "id": "5115b6c2",
   "metadata": {},
   "source": [
    "There seem to be two obvious outliers, but I don't want to simply remove them without checking the corresponding records first:"
   ]
  },
  {
   "cell_type": "code",
   "execution_count": 34,
   "id": "04896e73",
   "metadata": {},
   "outputs": [
    {
     "data": {
      "text/html": [
       "<div>\n",
       "<style scoped>\n",
       "    .dataframe tbody tr th:only-of-type {\n",
       "        vertical-align: middle;\n",
       "    }\n",
       "\n",
       "    .dataframe tbody tr th {\n",
       "        vertical-align: top;\n",
       "    }\n",
       "\n",
       "    .dataframe thead th {\n",
       "        text-align: right;\n",
       "    }\n",
       "</style>\n",
       "<table border=\"1\" class=\"dataframe\">\n",
       "  <thead>\n",
       "    <tr style=\"text-align: right;\">\n",
       "      <th></th>\n",
       "      <th>tripId</th>\n",
       "      <th>VendorID</th>\n",
       "      <th>tpep_pickup_datetime</th>\n",
       "      <th>tpep_dropoff_datetime</th>\n",
       "      <th>trip_duration(in minutes)</th>\n",
       "      <th>passenger_count</th>\n",
       "      <th>trip_distance</th>\n",
       "      <th>RatecodeID</th>\n",
       "      <th>store_and_fwd_flag</th>\n",
       "      <th>PULocationID</th>\n",
       "      <th>DOLocationID</th>\n",
       "      <th>payment_type</th>\n",
       "      <th>fare_amount</th>\n",
       "      <th>extra</th>\n",
       "      <th>mta_tax</th>\n",
       "      <th>tip_amount</th>\n",
       "      <th>tolls_amount</th>\n",
       "      <th>improvement_surcharge</th>\n",
       "      <th>congestion_surcharge</th>\n",
       "      <th>total_amount</th>\n",
       "    </tr>\n",
       "  </thead>\n",
       "  <tbody>\n",
       "    <tr>\n",
       "      <th>107624</th>\n",
       "      <td>687192236323</td>\n",
       "      <td>2.0</td>\n",
       "      <td>2021-01-04 16:04:51</td>\n",
       "      <td>2021-01-04 16:15:01</td>\n",
       "      <td>10.17</td>\n",
       "      <td>1</td>\n",
       "      <td>2.05</td>\n",
       "      <td>1</td>\n",
       "      <td>N</td>\n",
       "      <td>140</td>\n",
       "      <td>236</td>\n",
       "      <td>1.0</td>\n",
       "      <td>6960.5</td>\n",
       "      <td>1.0</td>\n",
       "      <td>0.5</td>\n",
       "      <td>696.48</td>\n",
       "      <td>0.00</td>\n",
       "      <td>0.3</td>\n",
       "      <td>2.5</td>\n",
       "      <td>7661.28</td>\n",
       "    </tr>\n",
       "    <tr>\n",
       "      <th>1269196</th>\n",
       "      <td>724435950946</td>\n",
       "      <td>1.0</td>\n",
       "      <td>2021-01-20 11:22:05</td>\n",
       "      <td>2021-01-20 19:47:56</td>\n",
       "      <td>505.85</td>\n",
       "      <td>1</td>\n",
       "      <td>427.70</td>\n",
       "      <td>1</td>\n",
       "      <td>Y</td>\n",
       "      <td>4</td>\n",
       "      <td>265</td>\n",
       "      <td>1.0</td>\n",
       "      <td>1128.5</td>\n",
       "      <td>2.5</td>\n",
       "      <td>0.5</td>\n",
       "      <td>1140.44</td>\n",
       "      <td>20.16</td>\n",
       "      <td>0.3</td>\n",
       "      <td>2.5</td>\n",
       "      <td>2294.90</td>\n",
       "    </tr>\n",
       "  </tbody>\n",
       "</table>\n",
       "</div>"
      ],
      "text/plain": [
       "               tripId VendorID tpep_pickup_datetime tpep_dropoff_datetime  \\\n",
       "107624   687192236323      2.0  2021-01-04 16:04:51   2021-01-04 16:15:01   \n",
       "1269196  724435950946      1.0  2021-01-20 11:22:05   2021-01-20 19:47:56   \n",
       "\n",
       "         trip_duration(in minutes)  passenger_count  trip_distance  \\\n",
       "107624                       10.17                1           2.05   \n",
       "1269196                     505.85                1         427.70   \n",
       "\n",
       "         RatecodeID store_and_fwd_flag  PULocationID  DOLocationID  \\\n",
       "107624            1                  N           140           236   \n",
       "1269196           1                  Y             4           265   \n",
       "\n",
       "        payment_type  fare_amount  extra  mta_tax  tip_amount  tolls_amount  \\\n",
       "107624           1.0       6960.5    1.0      0.5      696.48          0.00   \n",
       "1269196          1.0       1128.5    2.5      0.5     1140.44         20.16   \n",
       "\n",
       "         improvement_surcharge  congestion_surcharge  total_amount  \n",
       "107624                     0.3                   2.5       7661.28  \n",
       "1269196                    0.3                   2.5       2294.90  "
      ]
     },
     "execution_count": 34,
     "metadata": {},
     "output_type": "execute_result"
    }
   ],
   "source": [
    "ff.loc[ff['total_amount'] > 2000]"
   ]
  },
  {
   "cell_type": "markdown",
   "id": "588f73ab",
   "metadata": {},
   "source": [
    "As expected, one of the outliers is an obvious error, where the trip duration is just about 10 minutes, but the total fare adds up to an astounding 7,600 USD. However, the other outlier seems sensible as it is a long trip of about 500 minutes (8.3 hours) and hence the high total fare is justifiable. So I removed just the single obvious anomalous outlier:"
   ]
  },
  {
   "cell_type": "code",
   "execution_count": 35,
   "id": "000a0b90",
   "metadata": {},
   "outputs": [],
   "source": [
    "ff = ff[ff.total_amount < 3000]"
   ]
  },
  {
   "cell_type": "code",
   "execution_count": 36,
   "id": "4f5546c0",
   "metadata": {},
   "outputs": [
    {
     "data": {
      "image/png": "[encoded data removed]",
      "text/plain": [
       "<Figure size 1170x827 with 1 Axes>"
      ]
     },
     "metadata": {},
     "output_type": "display_data"
    }
   ],
   "source": [
    "ff[['total_amount']].plot.box();"
   ]
  },
  {
   "cell_type": "markdown",
   "id": "f9d58ecf",
   "metadata": {},
   "source": [
    "A correlation plot is also obtained which displays the various correlation values between corresponding numerical variables:"
   ]
  },
  {
   "cell_type": "code",
   "execution_count": 37,
   "id": "ecb5ad3c",
   "metadata": {},
   "outputs": [
    {
     "data": {
      "text/html": [
       "<style type=\"text/css\">\n",
       "#T_d24fb_row0_col0, #T_d24fb_row1_col1, #T_d24fb_row2_col2, #T_d24fb_row3_col3, #T_d24fb_row4_col4, #T_d24fb_row5_col5 {\n",
       "  background-color: #b40426;\n",
       "  color: #f1f1f1;\n",
       "}\n",
       "#T_d24fb_row0_col1 {\n",
       "  background-color: #4358cb;\n",
       "  color: #f1f1f1;\n",
       "}\n",
       "#T_d24fb_row0_col2 {\n",
       "  background-color: #9abbff;\n",
       "  color: #000000;\n",
       "}\n",
       "#T_d24fb_row0_col3, #T_d24fb_row2_col4, #T_d24fb_row4_col0, #T_d24fb_row4_col2, #T_d24fb_row4_col5, #T_d24fb_row5_col1 {\n",
       "  background-color: #3b4cc0;\n",
       "  color: #f1f1f1;\n",
       "}\n",
       "#T_d24fb_row0_col4 {\n",
       "  background-color: #6f92f3;\n",
       "  color: #f1f1f1;\n",
       "}\n",
       "#T_d24fb_row0_col5 {\n",
       "  background-color: #8badfd;\n",
       "  color: #000000;\n",
       "}\n",
       "#T_d24fb_row1_col0 {\n",
       "  background-color: #485fd1;\n",
       "  color: #f1f1f1;\n",
       "}\n",
       "#T_d24fb_row1_col2 {\n",
       "  background-color: #7b9ff9;\n",
       "  color: #f1f1f1;\n",
       "}\n",
       "#T_d24fb_row1_col3 {\n",
       "  background-color: #3d50c3;\n",
       "  color: #f1f1f1;\n",
       "}\n",
       "#T_d24fb_row1_col4 {\n",
       "  background-color: #799cf8;\n",
       "  color: #f1f1f1;\n",
       "}\n",
       "#T_d24fb_row1_col5 {\n",
       "  background-color: #6485ec;\n",
       "  color: #f1f1f1;\n",
       "}\n",
       "#T_d24fb_row2_col0 {\n",
       "  background-color: #6788ee;\n",
       "  color: #f1f1f1;\n",
       "}\n",
       "#T_d24fb_row2_col1 {\n",
       "  background-color: #4257c9;\n",
       "  color: #f1f1f1;\n",
       "}\n",
       "#T_d24fb_row2_col3, #T_d24fb_row3_col1, #T_d24fb_row4_col1 {\n",
       "  background-color: #3e51c5;\n",
       "  color: #f1f1f1;\n",
       "}\n",
       "#T_d24fb_row2_col5 {\n",
       "  background-color: #d75445;\n",
       "  color: #f1f1f1;\n",
       "}\n",
       "#T_d24fb_row3_col0 {\n",
       "  background-color: #4055c8;\n",
       "  color: #f1f1f1;\n",
       "}\n",
       "#T_d24fb_row3_col2 {\n",
       "  background-color: #7a9df8;\n",
       "  color: #f1f1f1;\n",
       "}\n",
       "#T_d24fb_row3_col4 {\n",
       "  background-color: #89acfd;\n",
       "  color: #000000;\n",
       "}\n",
       "#T_d24fb_row3_col5 {\n",
       "  background-color: #6a8bef;\n",
       "  color: #f1f1f1;\n",
       "}\n",
       "#T_d24fb_row4_col3 {\n",
       "  background-color: #4f69d9;\n",
       "  color: #f1f1f1;\n",
       "}\n",
       "#T_d24fb_row5_col0 {\n",
       "  background-color: #6687ed;\n",
       "  color: #f1f1f1;\n",
       "}\n",
       "#T_d24fb_row5_col2 {\n",
       "  background-color: #d65244;\n",
       "  color: #f1f1f1;\n",
       "}\n",
       "#T_d24fb_row5_col3 {\n",
       "  background-color: #3f53c6;\n",
       "  color: #f1f1f1;\n",
       "}\n",
       "#T_d24fb_row5_col4 {\n",
       "  background-color: #4b64d5;\n",
       "  color: #f1f1f1;\n",
       "}\n",
       "</style>\n",
       "<table id=\"T_d24fb\">\n",
       "  <thead>\n",
       "    <tr>\n",
       "      <th class=\"blank level0\" >&nbsp;</th>\n",
       "      <th id=\"T_d24fb_level0_col0\" class=\"col_heading level0 col0\" >trip_duration(in minutes)</th>\n",
       "      <th id=\"T_d24fb_level0_col1\" class=\"col_heading level0 col1\" >passenger_count</th>\n",
       "      <th id=\"T_d24fb_level0_col2\" class=\"col_heading level0 col2\" >trip_distance</th>\n",
       "      <th id=\"T_d24fb_level0_col3\" class=\"col_heading level0 col3\" >improvement_surcharge</th>\n",
       "      <th id=\"T_d24fb_level0_col4\" class=\"col_heading level0 col4\" >congestion_surcharge</th>\n",
       "      <th id=\"T_d24fb_level0_col5\" class=\"col_heading level0 col5\" >total_amount</th>\n",
       "    </tr>\n",
       "  </thead>\n",
       "  <tbody>\n",
       "    <tr>\n",
       "      <th id=\"T_d24fb_level0_row0\" class=\"row_heading level0 row0\" >trip_duration(in minutes)</th>\n",
       "      <td id=\"T_d24fb_row0_col0\" class=\"data row0 col0\" >1.00</td>\n",
       "      <td id=\"T_d24fb_row0_col1\" class=\"data row0 col1\" >0.02</td>\n",
       "      <td id=\"T_d24fb_row0_col2\" class=\"data row0 col2\" >0.12</td>\n",
       "      <td id=\"T_d24fb_row0_col3\" class=\"data row0 col3\" >-0.00</td>\n",
       "      <td id=\"T_d24fb_row0_col4\" class=\"data row0 col4\" >-0.03</td>\n",
       "      <td id=\"T_d24fb_row0_col5\" class=\"data row0 col5\" >0.12</td>\n",
       "    </tr>\n",
       "    <tr>\n",
       "      <th id=\"T_d24fb_level0_row1\" class=\"row_heading level0 row1\" >passenger_count</th>\n",
       "      <td id=\"T_d24fb_row1_col0\" class=\"data row1 col0\" >0.02</td>\n",
       "      <td id=\"T_d24fb_row1_col1\" class=\"data row1 col1\" >1.00</td>\n",
       "      <td id=\"T_d24fb_row1_col2\" class=\"data row1 col2\" >0.01</td>\n",
       "      <td id=\"T_d24fb_row1_col3\" class=\"data row1 col3\" >0.00</td>\n",
       "      <td id=\"T_d24fb_row1_col4\" class=\"data row1 col4\" >0.01</td>\n",
       "      <td id=\"T_d24fb_row1_col5\" class=\"data row1 col5\" >-0.01</td>\n",
       "    </tr>\n",
       "    <tr>\n",
       "      <th id=\"T_d24fb_level0_row2\" class=\"row_heading level0 row2\" >trip_distance</th>\n",
       "      <td id=\"T_d24fb_row2_col0\" class=\"data row2 col0\" >0.12</td>\n",
       "      <td id=\"T_d24fb_row2_col1\" class=\"data row2 col1\" >0.01</td>\n",
       "      <td id=\"T_d24fb_row2_col2\" class=\"data row2 col2\" >1.00</td>\n",
       "      <td id=\"T_d24fb_row2_col3\" class=\"data row2 col3\" >0.01</td>\n",
       "      <td id=\"T_d24fb_row2_col4\" class=\"data row2 col4\" >-0.23</td>\n",
       "      <td id=\"T_d24fb_row2_col5\" class=\"data row2 col5\" >0.88</td>\n",
       "    </tr>\n",
       "    <tr>\n",
       "      <th id=\"T_d24fb_level0_row3\" class=\"row_heading level0 row3\" >improvement_surcharge</th>\n",
       "      <td id=\"T_d24fb_row3_col0\" class=\"data row3 col0\" >-0.00</td>\n",
       "      <td id=\"T_d24fb_row3_col1\" class=\"data row3 col1\" >0.00</td>\n",
       "      <td id=\"T_d24fb_row3_col2\" class=\"data row3 col2\" >0.01</td>\n",
       "      <td id=\"T_d24fb_row3_col3\" class=\"data row3 col3\" >1.00</td>\n",
       "      <td id=\"T_d24fb_row3_col4\" class=\"data row3 col4\" >0.06</td>\n",
       "      <td id=\"T_d24fb_row3_col5\" class=\"data row3 col5\" >0.01</td>\n",
       "    </tr>\n",
       "    <tr>\n",
       "      <th id=\"T_d24fb_level0_row4\" class=\"row_heading level0 row4\" >congestion_surcharge</th>\n",
       "      <td id=\"T_d24fb_row4_col0\" class=\"data row4 col0\" >-0.03</td>\n",
       "      <td id=\"T_d24fb_row4_col1\" class=\"data row4 col1\" >0.01</td>\n",
       "      <td id=\"T_d24fb_row4_col2\" class=\"data row4 col2\" >-0.23</td>\n",
       "      <td id=\"T_d24fb_row4_col3\" class=\"data row4 col3\" >0.06</td>\n",
       "      <td id=\"T_d24fb_row4_col4\" class=\"data row4 col4\" >1.00</td>\n",
       "      <td id=\"T_d24fb_row4_col5\" class=\"data row4 col5\" >-0.17</td>\n",
       "    </tr>\n",
       "    <tr>\n",
       "      <th id=\"T_d24fb_level0_row5\" class=\"row_heading level0 row5\" >total_amount</th>\n",
       "      <td id=\"T_d24fb_row5_col0\" class=\"data row5 col0\" >0.12</td>\n",
       "      <td id=\"T_d24fb_row5_col1\" class=\"data row5 col1\" >-0.01</td>\n",
       "      <td id=\"T_d24fb_row5_col2\" class=\"data row5 col2\" >0.88</td>\n",
       "      <td id=\"T_d24fb_row5_col3\" class=\"data row5 col3\" >0.01</td>\n",
       "      <td id=\"T_d24fb_row5_col4\" class=\"data row5 col4\" >-0.17</td>\n",
       "      <td id=\"T_d24fb_row5_col5\" class=\"data row5 col5\" >1.00</td>\n",
       "    </tr>\n",
       "  </tbody>\n",
       "</table>\n"
      ],
      "text/plain": [
       "<pandas.io.formats.style.Styler at 0x18613f6f550>"
      ]
     },
     "execution_count": 37,
     "metadata": {},
     "output_type": "execute_result"
    }
   ],
   "source": [
    "corr = ff[['trip_duration(in minutes)','passenger_count','trip_distance','improvement_surcharge','congestion_surcharge', 'total_amount']].corr()\n",
    "corr.style.background_gradient(cmap='coolwarm').set_precision(2)"
   ]
  },
  {
   "cell_type": "markdown",
   "id": "f2238ee9",
   "metadata": {},
   "source": [
    "Not much strong positive or negative relationships can be derived from the obtained correlation plot except for the positive correlation between the **trip_distance** and the **total_amount** variables, which is expected, as the longer the trip duration, the higher the fare amount."
   ]
  },
  {
   "cell_type": "markdown",
   "id": "817de568",
   "metadata": {},
   "source": [
    "Checking the relationship between the newly created **trip_duration** and the **total_amount** variables:"
   ]
  },
  {
   "cell_type": "code",
   "execution_count": 38,
   "id": "70d6da7c",
   "metadata": {
    "scrolled": false
   },
   "outputs": [
    {
     "data": {
      "image/png": "[encoded data removed]",
      "text/plain": [
       "<Figure size 1170x827 with 1 Axes>"
      ]
     },
     "metadata": {},
     "output_type": "display_data"
    }
   ],
   "source": [
    "ff.plot.scatter(x = 'trip_duration(in minutes)', y = 'total_amount', title = 'Trip Duration (in minutes) vs Total Fare Amount');"
   ]
  },
  {
   "cell_type": "markdown",
   "id": "805def22",
   "metadata": {},
   "source": [
    "As already inferred from the correlation plot, I once more confirm the positive correlation between the **Trip_distance** column and the **total_amount** column:"
   ]
  },
  {
   "cell_type": "code",
   "execution_count": 39,
   "id": "bfffab3d",
   "metadata": {},
   "outputs": [
    {
     "data": {
      "image/png": "[encoded data removed]",
      "text/plain": [
       "<Figure size 1170x827 with 1 Axes>"
      ]
     },
     "metadata": {},
     "output_type": "display_data"
    }
   ],
   "source": [
    "ff.plot.scatter(x = 'trip_distance', y = 'total_amount', title = 'Trip Distance (in Miles) vs Total Fare Amount');"
   ]
  },
  {
   "cell_type": "markdown",
   "id": "fdcc858e",
   "metadata": {},
   "source": [
    "A frequency countplot of the **passenger_count** column is also obtained:"
   ]
  },
  {
   "cell_type": "code",
   "execution_count": 40,
   "id": "781b43d7",
   "metadata": {},
   "outputs": [
    {
     "data": {
      "image/png": "[encoded data removed]",
      "text/plain": [
       "<Figure size 1170x827 with 1 Axes>"
      ]
     },
     "metadata": {},
     "output_type": "display_data"
    }
   ],
   "source": [
    "sns.countplot(x ='passenger_count', data = ff);"
   ]
  },
  {
   "cell_type": "markdown",
   "id": "4aab1fb2",
   "metadata": {},
   "source": [
    "From the Yellow Taxi Metadata file, the values corresponding to the existing records for the **payment_type** column are replaced and a frequency count plot is obtained which shows that the most prevalent form of payment method is the credit card:"
   ]
  },
  {
   "cell_type": "code",
   "execution_count": 41,
   "id": "26f0b346",
   "metadata": {},
   "outputs": [],
   "source": [
    "ff.payment_type = ff.payment_type.replace(to_replace=['1.0','2.0','3.0','4.0'], value=['Credit Card','Cash','No Charge','Dispute'])"
   ]
  },
  {
   "cell_type": "code",
   "execution_count": 42,
   "id": "8f8d6333",
   "metadata": {},
   "outputs": [
    {
     "data": {
      "image/png": "[encoded data removed]",
      "text/plain": [
       "<Figure size 1170x827 with 1 Axes>"
      ]
     },
     "metadata": {},
     "output_type": "display_data"
    }
   ],
   "source": [
    "sns.countplot(x ='payment_type', data = ff);"
   ]
  },
  {
   "cell_type": "markdown",
   "id": "d56f90d3",
   "metadata": {},
   "source": [
    "Similarly, from the metadata file, the values corresponding to the existing records for the **VendorID** column are replaced and a corresponding frequency count plot is obtained which shows that VeriFone Inc. has achieved more trips than its counterpart:"
   ]
  },
  {
   "cell_type": "code",
   "execution_count": 43,
   "id": "f53cd334",
   "metadata": {},
   "outputs": [],
   "source": [
    "ff.VendorID = ff.VendorID.replace(to_replace=['1.0','2.0'], value=['Creative Mobile Technologies, LLC','VeriFone Inc.'])"
   ]
  },
  {
   "cell_type": "code",
   "execution_count": 44,
   "id": "30330941",
   "metadata": {},
   "outputs": [
    {
     "data": {
      "image/png": "[encoded data removed]",
      "text/plain": [
       "<Figure size 1170x827 with 1 Axes>"
      ]
     },
     "metadata": {},
     "output_type": "display_data"
    }
   ],
   "source": [
    "sns.countplot(x ='VendorID', data = ff);"
   ]
  },
  {
   "cell_type": "markdown",
   "id": "49b536af",
   "metadata": {},
   "source": [
    "As done above, from the metadata file, the values corresponding to the existing records for the **RatecodeID** column are replaced and a corresponding frequency count plot is obtained which shows that the standard rate applied to majority of the trips:"
   ]
  },
  {
   "cell_type": "code",
   "execution_count": 45,
   "id": "5aeefd25",
   "metadata": {},
   "outputs": [],
   "source": [
    "ff.RatecodeID = ff.RatecodeID.replace(to_replace=[1,2,3,4,5,6], value=['Standard Rate','JFK','Newark','Nassau/Westchester','Negotiated','Group Ride'])"
   ]
  },
  {
   "cell_type": "code",
   "execution_count": 46,
   "id": "28bf234e",
   "metadata": {},
   "outputs": [
    {
     "data": {
      "image/png": "[encoded data removed]",
      "text/plain": [
       "<Figure size 1170x827 with 1 Axes>"
      ]
     },
     "metadata": {},
     "output_type": "display_data"
    }
   ],
   "source": [
    "sns.countplot(x ='RatecodeID', data = ff);"
   ]
  },
  {
   "cell_type": "markdown",
   "id": "3ee5052a",
   "metadata": {},
   "source": [
    "As a part of my objective, I was needed to check if there is any relationship between the **congestion_surcharge** and the **trip_distance** columns. After obtaining a correlation plot, it seemed evident that there was no solid relation between the two. However, I explore more on this objective while visualising with Tableau."
   ]
  },
  {
   "cell_type": "code",
   "execution_count": 47,
   "id": "cd0e573f",
   "metadata": {},
   "outputs": [
    {
     "data": {
      "text/html": [
       "<style type=\"text/css\">\n",
       "#T_e163e_row0_col0, #T_e163e_row1_col1 {\n",
       "  background-color: #b40426;\n",
       "  color: #f1f1f1;\n",
       "}\n",
       "#T_e163e_row0_col1, #T_e163e_row1_col0 {\n",
       "  background-color: #3b4cc0;\n",
       "  color: #f1f1f1;\n",
       "}\n",
       "</style>\n",
       "<table id=\"T_e163e\">\n",
       "  <thead>\n",
       "    <tr>\n",
       "      <th class=\"blank level0\" >&nbsp;</th>\n",
       "      <th id=\"T_e163e_level0_col0\" class=\"col_heading level0 col0\" >congestion_surcharge</th>\n",
       "      <th id=\"T_e163e_level0_col1\" class=\"col_heading level0 col1\" >trip_distance</th>\n",
       "    </tr>\n",
       "  </thead>\n",
       "  <tbody>\n",
       "    <tr>\n",
       "      <th id=\"T_e163e_level0_row0\" class=\"row_heading level0 row0\" >congestion_surcharge</th>\n",
       "      <td id=\"T_e163e_row0_col0\" class=\"data row0 col0\" >1.00</td>\n",
       "      <td id=\"T_e163e_row0_col1\" class=\"data row0 col1\" >-0.23</td>\n",
       "    </tr>\n",
       "    <tr>\n",
       "      <th id=\"T_e163e_level0_row1\" class=\"row_heading level0 row1\" >trip_distance</th>\n",
       "      <td id=\"T_e163e_row1_col0\" class=\"data row1 col0\" >-0.23</td>\n",
       "      <td id=\"T_e163e_row1_col1\" class=\"data row1 col1\" >1.00</td>\n",
       "    </tr>\n",
       "  </tbody>\n",
       "</table>\n"
      ],
      "text/plain": [
       "<pandas.io.formats.style.Styler at 0x1860d36eef0>"
      ]
     },
     "execution_count": 47,
     "metadata": {},
     "output_type": "execute_result"
    }
   ],
   "source": [
    "corr = ff[['congestion_surcharge', 'trip_distance']].corr()\n",
    "corr.style.background_gradient(cmap='coolwarm').set_precision(2)"
   ]
  },
  {
   "cell_type": "markdown",
   "id": "0d92023c",
   "metadata": {},
   "source": [
    "Resetting the index once again after all the data cleaning and wrangling processes have been completed:"
   ]
  },
  {
   "cell_type": "code",
   "execution_count": 48,
   "id": "e2aa8298",
   "metadata": {},
   "outputs": [],
   "source": [
    "ff.reset_index(inplace=True, drop=True)"
   ]
  },
  {
   "cell_type": "markdown",
   "id": "8f028a62",
   "metadata": {},
   "source": [
    "### Data Exporting <a name='bookmark4' />"
   ]
  },
  {
   "cell_type": "markdown",
   "id": "6aa3f55f",
   "metadata": {},
   "source": [
    "Once the final dataframe is ready to be visualised and worked with on Tableau, I print out the entire dataframe into a csv file named \"TaxiCab\":"
   ]
  },
  {
   "cell_type": "code",
   "execution_count": 49,
   "id": "13527f5b",
   "metadata": {},
   "outputs": [],
   "source": [
    "ff.to_csv(\"TaxiCab.csv\", index=False)"
   ]
  },
  {
   "cell_type": "markdown",
   "id": "b0426656",
   "metadata": {},
   "source": [
    "Thanks, David Ben Gurion"
   ]
  },
  {
   "cell_type": "markdown",
   "id": "084fc721",
   "metadata": {},
   "source": [
    "------"
   ]
  }
 ],
 "metadata": {
  "kernelspec": {
   "display_name": "Python 3 (ipykernel)",
   "language": "python",
   "name": "python3"
  },
  "language_info": {
   "codemirror_mode": {
    "name": "ipython",
    "version": 3
   },
   "file_extension": ".py",
   "mimetype": "text/x-python",
   "name": "python",
   "nbconvert_exporter": "python",
   "pygments_lexer": "ipython3",
   "version": "3.10.7"
  }
 },
 "nbformat": 4,
 "nbformat_minor": 5
}
